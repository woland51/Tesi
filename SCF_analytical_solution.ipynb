{
 "cells": [
  {
   "cell_type": "code",
   "execution_count": 1,
   "id": "f34a1424",
   "metadata": {},
   "outputs": [],
   "source": [
    "from pandas import DataFrame\n",
    "from pathlib import Path\n",
    "from numpy import linspace\n",
    "import logging"
   ]
  },
  {
   "cell_type": "code",
   "execution_count": 2,
   "id": "0d725617",
   "metadata": {},
   "outputs": [],
   "source": [
    "logging.basicConfig(format='%(levelname)-8s : %(message)s',\n",
    "                    level=logging.INFO)\n",
    "save_dir = \"Csv\"\n",
    "file_name = \"SCF_analitycal solution2\"\n",
    "Path(save_dir).mkdir(parents=True, exist_ok=True)"
   ]
  },
  {
   "cell_type": "code",
   "execution_count": 3,
   "id": "e63b2193",
   "metadata": {},
   "outputs": [],
   "source": [
    "scale = 1.0e-3 # scale factor for the units, 1e-3 for [m], 1 for [mm]\n",
    "G  = ((1/scale)**2)*50e3    # Shear modulus [MPa]\n",
    "ν = 0.3  # Poisson's ratio\n",
    "l  = scale * 30.0  # Characteristic length (bending) [mm]\n",
    "N_values = linspace(0.1, 0.9, 9)  # list of values for coupling numer N\n",
    "D = l  # hole diamater\n",
    "R = 0.5 * D  # radius of the hole"
   ]
  },
  {
   "cell_type": "markdown",
   "id": "7072ba87",
   "metadata": {},
   "source": [
    "$$SCF_{Cosserat} = \\frac{3 + F_{1}}{1 + F_{1}}, \\quad \\text{where} \\quad F_{1} = 8(1 - \\nu) \\cdot \\frac{l^2}{c^2} \\cdot \\left( 4 + \\frac{R^2}{c^2} + \\frac{2R}{c} \\cdot \\frac{K_0(R/c)}{K_1(R/c)} \\right)^{-1}\n",
    "$$\n"
   ]
  },
  {
   "cell_type": "markdown",
   "id": "8c62484a",
   "metadata": {},
   "source": [
    "$\\text{and} \\quad K_{0}, K_{1} \\quad \\text{are modified Bessel functions of second order}$"
   ]
  },
  {
   "cell_type": "code",
   "execution_count": 8,
   "id": "26a0e0f6",
   "metadata": {},
   "outputs": [],
   "source": [
    "# Analytical solution\n",
    "def AnalyticalSolution(ν , l, c, R):\n",
    "  # Modified Bessel function of the second kind of real order v :\n",
    "  from scipy.special import kv\n",
    "  F = 8.0*(1.0-ν )*((l**2)/(c**2)) * \\\n",
    "  \t\t1.0 / (( 4.0 + ((R**2)/(c**2)) + \\\n",
    "  \t\t((2.0*R)/c) * kv(0,R/c)/kv(1,R/c) ))\n",
    "  SCF = (3.0 + F) / (1.0 + F) # stress concentration factor\n",
    "  return (SCF)"
   ]
  },
  {
   "cell_type": "code",
   "execution_count": null,
   "id": "a945ce29",
   "metadata": {},
   "outputs": [],
   "source": [
    "SCF_list = []\n",
    "for N in N_values:\n",
    "    c = l / N\n",
    "    SCF = AnalyticalSolution(ν, l, c, R)\n",
    "    logging.info(f\"Stress Concentration Factor (SCF) for N={N:.2f}: {SCF:.4f}\")\n",
    "    SCF_list.append(SCF)"
   ]
  },
  {
   "cell_type": "code",
   "execution_count": null,
   "id": "e95b2fd1",
   "metadata": {},
   "outputs": [],
   "source": [
    "df = DataFrame({'N': N_values,\n",
    "                'SCF': SCF_list})\n",
    "df.to_csv(path:=\"\".join([save_dir, \"/\", file_name]), index=False)\n",
    "logging.info(f\"Saving results to {path}\")"
   ]
  }
 ],
 "metadata": {
  "jupytext": {
   "cell_metadata_filter": "-all",
   "main_language": "python",
   "notebook_metadata_filter": "-all"
  },
  "kernelspec": {
   "display_name": "fenicsx-env",
   "language": "python",
   "name": "python3"
  },
  "language_info": {
   "codemirror_mode": {
    "name": "ipython",
    "version": 3
   },
   "file_extension": ".py",
   "mimetype": "text/x-python",
   "name": "python",
   "nbconvert_exporter": "python",
   "pygments_lexer": "ipython3",
   "version": "3.13.2"
  }
 },
 "nbformat": 4,
 "nbformat_minor": 5
}
